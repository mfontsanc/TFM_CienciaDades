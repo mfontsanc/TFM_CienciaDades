{
 "cells": [
  {
   "cell_type": "markdown",
   "id": "ea7ac44d",
   "metadata": {},
   "source": [
    "# TFM: Xarxes de col·laboració en estudis clínics sobre càncer de mama \n",
    "# Alumne: Maria Font Sánchez"
   ]
  },
  {
   "cell_type": "markdown",
   "id": "d2a5074e",
   "metadata": {},
   "source": [
    "El present projecte és el desenvolupament d'un producte relacionat amb la ciència de dades. La metodologia triada és la [CRISP-DM](https://ebookcentral.proquest.com/lib/bibliouocsp-ebooks/reader.action?docID=5045398) que defineix 5 fases:\n",
    "\n",
    "* **Fase 1: comprensió del negoci**. L’objectiu principal és entendre els estudis clínics, com funcionen a nivell administratiu i les persones involucrades en tot el procés. L’estudi de l’art ha de permetre obtenir aquest coneixement.\n",
    "* **Fase 2: comprensió de les dades**, mitjançant l’exploració de les fonts de dades i els processos de captura d’aquestes. En aquesta fase, és important entendre com s’estructuren els estudis clínics, i identificar aquells atributs necessaris per a l’execució del model.\n",
    "* **Fase 3: preparació de les dades**. Un cop és té definida la font de dades, el següent pas es preparar-les per a poder implementar el model de mineria de dades. Per tant, en el present TFM es realitzaran les tasques ETL (Extract, Transform, Implement) al graf, incloent la neteja dels atributs identificats en la fase 1.\n",
    "* **Fase 4: modelat**. A continuació, un cop ja es tenen les dades preparades, es realitzarà la implementació del model per a la identificació de relacions entre estudis clínics. \n",
    "* **Fase 5: avaluació del model**. En aquesta darrera fase, s’avaluarà el model per tal de trobar la seva fiabilitat, i ajustar-lo en funció de les millores trobades.\n",
    "\n",
    "En el present Jupyter Notebook, es treballarà a partir de la Fase 2, ja que la comprensió del negoci està descrita en la memòria del TFM."
   ]
  },
  {
   "cell_type": "markdown",
   "id": "45dac9a9",
   "metadata": {},
   "source": [
    "## Fase 2: Comprensió de les dades\n",
    "\n",
    "En el Jupyter notebook [02_Data_comprehension.ipynb](./process/data_comprehension/02_Data_comprehension.ipynb) o HTML [02_Data_comprehension.html](./process/data_comprehension/02_Data_comprehension.html), es descriu el següent:\n",
    "* *Font de dades* d'on es recuperen els estudis clínics, especificant el format.\n",
    "* *Estructura del fitxer* s'especifiquen les dades dels estudis clínics, i identificació d'aquelles elements o atributs necessaris per a l'execució del model."
   ]
  },
  {
   "cell_type": "markdown",
   "id": "444518d8",
   "metadata": {},
   "source": [
    "## Fase 3: Preparació de les dades\n",
    "\n",
    "En el Jupyter notebook [03_Data_preparation.ipynb](./process/data_preparation/03_Data_preparation.ipynb) o HTML [03_Data_preparation.html](./process/data_preparation/03_Data_preparation.html), es descriu el següent:\n",
    "* *Extracció de les dades* d'on primer es seleccionen els fitxers XML amb els estudis clínics sobre el càncer de mama.\n",
    "* *Estudi estadístic* de les dades.\n",
    "* *Transformació* de l'XML a la base de dades, a més de la neteja i normalització de les dades.\n",
    "* *Implementació* per a inserir les dades a la base de dades i tenir les dades en el format adequat per a poder realitzar la següent implementació del model."
   ]
  },
  {
   "cell_type": "markdown",
   "id": "5e96efc2",
   "metadata": {},
   "source": [
    "## Fase 4: Modelat\n",
    "\n",
    "En el Jupyter notebook [04_Data_modelling.ipynb](./process/data_modelling/04_Data_modelling.ipynb) o HTML [04_Data_modelling.html](./process/data_modelling/04_Data_modelling.html), es descriu el següent:\n",
    "* Realitzar el procés d'execució de la *similitud* entre els estudis clínics del model.\n",
    "* Trobar les diferents *comunitats* que contenen els estudis clínics més semblants."
   ]
  },
  {
   "cell_type": "markdown",
   "id": "12b19f45",
   "metadata": {},
   "source": [
    "## Fase 5: Avaluació del model\n",
    "\n",
    "L'avaluació del model es realitza en una aplicació apart, implementada amb Shiny per Python i es troba en aquesta [ubicació](https://github.com/mfontsanc/TFM_CienciaDades/tree/main/front). En aquesta aplicació, es troben els resultats de la generació de les comunitats, i la cerca de la xarxa de col·laboradors per comunitat i estudi clínic.\n",
    "\n",
    "La instal·lació i com inicialitzar l'aplicació es troba descrit en el següent fitxer README: https://github.com/mfontsanc/TFM_CienciaDades"
   ]
  },
  {
   "cell_type": "code",
   "execution_count": null,
   "id": "5898c84e",
   "metadata": {},
   "outputs": [],
   "source": []
  }
 ],
 "metadata": {
  "kernelspec": {
   "display_name": "Python 3 (ipykernel)",
   "language": "python",
   "name": "python3"
  },
  "language_info": {
   "codemirror_mode": {
    "name": "ipython",
    "version": 3
   },
   "file_extension": ".py",
   "mimetype": "text/x-python",
   "name": "python",
   "nbconvert_exporter": "python",
   "pygments_lexer": "ipython3",
   "version": "3.9.16"
  }
 },
 "nbformat": 4,
 "nbformat_minor": 5
}
